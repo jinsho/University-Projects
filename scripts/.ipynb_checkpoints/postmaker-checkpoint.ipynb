{
 "cells": [
  {
   "cell_type": "code",
   "execution_count": 3,
   "id": "c348348f-9c6e-48b4-9515-38105f414203",
   "metadata": {},
   "outputs": [],
   "source": [
    "import pyautogui\n",
    "import pyperclip\n",
    "import time"
   ]
  },
  {
   "cell_type": "code",
   "execution_count": 4,
   "id": "94c8f22f-147f-4125-90a4-534fcf39fa2d",
   "metadata": {},
   "outputs": [],
   "source": [
    "pyautogui.PAUSE = 1.5 #1 seconds wait pert action.\n",
    "kanji = '気'\n",
    "reading = 'き'\n",
    "translation = 'Mind, Spirit, Energy'\n",
    "sentence = 'やる気がないね...'\n",
    "s_translation = 'I don\\'t feel like doing it...'\n",
    "kanjin = 18"
   ]
  },
  {
   "cell_type": "code",
   "execution_count": 3,
   "id": "b7f302c1-4595-40e8-b967-e5a34b8873d1",
   "metadata": {},
   "outputs": [],
   "source": [
    "def canva():\n",
    "    time.sleep(10) #Acessing canva\n",
    "    pyautogui.hotkey(\"ctrl\", \"t\")\n",
    "    pyperclip.copy('https://www.canva.com/')\n",
    "    pyautogui.hotkey(\"ctrl\", \"l\")\n",
    "    pyperclip.paste()\n",
    "    pyautogui.hotkey(\"ctrl\", \"v\")\n",
    "    pyautogui.press(\"enter\")\n",
    "    time.sleep(10)"
   ]
  },
  {
   "cell_type": "code",
   "execution_count": 8,
   "id": "fce25c71-a1ce-4bb5-be3f-a3878cebb6c8",
   "metadata": {},
   "outputs": [],
   "source": [
    "def kanji_dir():\n",
    "    pyautogui.click(x=96, y=432) #Kanji directory\n",
    "    time.sleep(5)\n",
    "    pyautogui.click(x=1255, y=734)\n",
    "    pyautogui.press(\"down\")\n",
    "    pyautogui.press(\"down\")\n",
    "    pyautogui.click(x=1218, y=728)\n",
    "    pyautogui.click(x=367, y=443) #Kanji folder"
   ]
  },
  {
   "cell_type": "code",
   "execution_count": 5,
   "id": "2ec22335-c1a1-4560-91af-3fa93617add2",
   "metadata": {},
   "outputs": [],
   "source": [
    "def copy(kanjin):\n",
    "    time.sleep(3)\n",
    "    pyautogui.click(x=495, y=428) #1 copy\n",
    "    pyautogui.click(x=521, y=284)\n",
    "    time.sleep(3)\n",
    "    pyautogui.click(x=343, y=612)\n",
    "    pyperclip.copy(f'kanji{kanjin}') #Renaming\n",
    "    pyperclip.paste()\n",
    "    pyautogui.hotkey(\"ctrl\", \"v\")"
   ]
  },
  {
   "cell_type": "code",
   "execution_count": 14,
   "id": "b864385a-f9a9-4afd-b942-b0b522b545fe",
   "metadata": {
    "tags": []
   },
   "outputs": [],
   "source": [
    "def make_en(kanji, reading, translation, sentence, s_translation, kanjin):\n",
    "    #EN\n",
    "    time.sleep(3)\n",
    "    pyautogui.click(x=400, y=496)\n",
    "    time.sleep(15)\n",
    "    pyautogui.PAUSE=0.5\n",
    "    pyautogui.click(x=900, y=416)\n",
    "    pyautogui.click(x=900, y=416)\n",
    "    pyautogui.click(x=900, y=416)\n",
    "    pyautogui.hotkey(\"shift\", \"home\")\n",
    "    pyperclip.copy('Daily Kanji') #Daily Kanji\n",
    "    pyperclip.paste()\n",
    "    pyautogui.hotkey(\"ctrl\", \"v\")\n",
    "    pyautogui.click(x=894, y=506, clicks=3)\n",
    "    pyperclip.copy(kanji) #Daily Kanji\n",
    "    pyperclip.paste()\n",
    "    pyautogui.hotkey(\"ctrl\", \"v\")"
   ]
  },
  {
   "cell_type": "code",
   "execution_count": 15,
   "id": "ef061733-4f62-4671-b87e-e23aa9fe4165",
   "metadata": {
    "tags": []
   },
   "outputs": [],
   "source": [
    "    time.sleep(3)\n",
    "    pyautogui.scroll(-6) #Scroll to Kanji part\n",
    "    pyautogui.click(x=992, y=426, clicks=2)\n",
    "    pyautogui.hotkey(\"shift\", \"home\")\n",
    "    pyperclip.copy(kanji) #Copy Kanji\n",
    "    pyperclip.paste()\n",
    "    pyautogui.hotkey(\"ctrl\", \"v\")\n",
    "    pyautogui.click(x=1151, y=410)\n",
    "    pyautogui.click(x=888, y=532, clicks=2)\n",
    "    pyautogui.press(\"home\")\n",
    "    pyautogui.hotkey(\"shift\", \"end\")\n",
    "    pyperclip.copy(translation) #Copy Translation\n",
    "    pyperclip.paste()\n",
    "    pyautogui.hotkey(\"ctrl\", \"v\")\n",
    "    pyautogui.click(x=1004, y=593, clicks=2)\n",
    "    pyautogui.press(\"backspace\", 2)\n",
    "    pyperclip.copy(f'{kanjin}') #Copy Translation\n",
    "    pyperclip.paste()\n",
    "    pyautogui.hotkey(\"ctrl\", \"v\")"
   ]
  },
  {
   "cell_type": "code",
   "execution_count": 16,
   "id": "6bb7c31b-739c-4f82-a290-6865e71a451e",
   "metadata": {
    "tags": []
   },
   "outputs": [],
   "source": [
    "    time.sleep(3)\n",
    "    pyautogui.scroll(-6) #Scroll to Kanji part\n",
    "    pyautogui.click(x=992, y=426, clicks=2)\n",
    "    pyautogui.hotkey(\"shift\", \"home\")\n",
    "    pyperclip.copy(kanji) #Copy Kanji\n",
    "    pyperclip.paste()\n",
    "    pyautogui.hotkey(\"ctrl\", \"v\")\n",
    "    pyautogui.click(x=1151, y=410)\n",
    "    pyautogui.click(x=888, y=532, clicks=2)\n",
    "    pyautogui.hotkey(\"ctrl\", \"a\")\n",
    "    pyperclip.copy(translation) #Copy Translation\n",
    "    pyperclip.paste()\n",
    "    pyautogui.hotkey(\"ctrl\", \"v\")\n",
    "    pyautogui.press(\"enter\")\n",
    "    pyperclip.copy(reading) #Copy Reading\n",
    "    pyperclip.paste()\n",
    "    pyautogui.hotkey(\"ctrl\", \"v\")"
   ]
  },
  {
   "cell_type": "code",
   "execution_count": 17,
   "id": "9ea0241d-9944-459b-9b8f-8da4703d886c",
   "metadata": {},
   "outputs": [],
   "source": [
    "    time.sleep(3)\n",
    "    pyautogui.scroll(-6) #Scroll to Kanji part\n",
    "    pyautogui.click(x=895, y=463, clicks=2)\n",
    "    pyautogui.press(\"home\")\n",
    "    pyautogui.hotkey(\"shift\", \"end\")\n",
    "    pyperclip.copy(sentence) #Copy Sentence\n",
    "    pyperclip.paste()\n",
    "    pyautogui.hotkey(\"ctrl\", \"v\")"
   ]
  },
  {
   "cell_type": "code",
   "execution_count": 18,
   "id": "335cd470-c11e-409b-b342-59360ee8cb4c",
   "metadata": {},
   "outputs": [],
   "source": [
    "    time.sleep(3)\n",
    "    pyautogui.scroll(-6) #Scroll to Kanji part\n",
    "    pyautogui.click(x=901, y=367, clicks=3)\n",
    "    pyperclip.copy('Example') #Copy Sentence\n",
    "    pyperclip.paste()\n",
    "    pyautogui.hotkey(\"ctrl\", \"v\")\n",
    "    pyautogui.click(x=898, y=411, clicks=3)\n",
    "    pyperclip.copy(sentence) #Copy Sentence\n",
    "    pyperclip.paste()\n",
    "    pyautogui.hotkey(\"ctrl\", \"v\")\n",
    "    pyautogui.click(x=895, y=460, clicks=3)\n",
    "    pyperclip.copy(s_translation) #Copy Translation\n",
    "    pyperclip.paste()\n",
    "    pyautogui.hotkey(\"ctrl\", \"v\")\n",
    "    pyautogui.click(x=898, y=510, clicks=3)\n",
    "    pyperclip.copy(f'{kanji} {reading} {translation}') #Copy Vocab\n",
    "    pyperclip.paste()\n",
    "    pyautogui.hotkey(\"ctrl\", \"v\")"
   ]
  },
  {
   "cell_type": "code",
   "execution_count": null,
   "id": "db91fad5",
   "metadata": {},
   "outputs": [],
   "source": [
    "canva()\n",
    "kanji_dir()\n",
    "copy(kanjin)\n",
    "make_en(kanji, reading, translation, sentence, s_translation, kanjin)"
   ]
  }
 ],
 "metadata": {
  "kernelspec": {
   "display_name": "Python 3 (ipykernel)",
   "language": "python",
   "name": "python3"
  },
  "language_info": {
   "codemirror_mode": {
    "name": "ipython",
    "version": 3
   },
   "file_extension": ".py",
   "mimetype": "text/x-python",
   "name": "python",
   "nbconvert_exporter": "python",
   "pygments_lexer": "ipython3",
   "version": "3.8.10"
  }
 },
 "nbformat": 4,
 "nbformat_minor": 5
}
